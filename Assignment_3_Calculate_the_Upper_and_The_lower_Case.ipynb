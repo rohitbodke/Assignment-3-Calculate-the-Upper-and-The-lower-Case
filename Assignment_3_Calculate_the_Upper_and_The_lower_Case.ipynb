{
  "nbformat": 4,
  "nbformat_minor": 0,
  "metadata": {
    "colab": {
      "provenance": [],
      "authorship_tag": "ABX9TyOddAg9rRLpN65dfIjzacAV",
      "include_colab_link": true
    },
    "kernelspec": {
      "name": "python3",
      "display_name": "Python 3"
    },
    "language_info": {
      "name": "python"
    }
  },
  "cells": [
    {
      "cell_type": "markdown",
      "metadata": {
        "id": "view-in-github",
        "colab_type": "text"
      },
      "source": [
        "<a href=\"https://colab.research.google.com/github/rohitbodke/Assignment-3-Calculate-the-Upper-and-The-lower-Case/blob/main/Assignment_3_Calculate_the_Upper_and_The_lower_Case.ipynb\" target=\"_parent\"><img src=\"https://colab.research.google.com/assets/colab-badge.svg\" alt=\"Open In Colab\"/></a>"
      ]
    },
    {
      "cell_type": "code",
      "source": [
        "def fun (str):\n",
        "    upper=0\n",
        "    lower=0\n",
        "    for i in str :\n",
        "        if i.isupper():\n",
        "            upper +=1\n",
        "        elif i.islower():\n",
        "            lower +=1\n",
        "\n",
        "    print('no. of upper case characters:',upper)\n",
        "    print('no. of lower case characters:',lower)\n",
        "\n",
        "s= str(input(\"Enter any string :\"))\n",
        "fun(s)\n",
        "\n"
      ],
      "metadata": {
        "colab": {
          "base_uri": "https://localhost:8080/"
        },
        "id": "eTvYcUFQI5Hg",
        "outputId": "302167a6-7f25-40e8-d800-494ddc00f63a"
      },
      "execution_count": 7,
      "outputs": [
        {
          "output_type": "stream",
          "name": "stdout",
          "text": [
            "Enter any string :The quick Brow Fox\n",
            "no. of upper case characters: 3\n",
            "no. of lower case characters: 12\n"
          ]
        }
      ]
    }
  ]
}